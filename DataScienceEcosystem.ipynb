{
 "cells": [
  {
   "cell_type": "markdown",
   "id": "af270c3a-7cb4-4e27-8d52-9fb77b1c8a57",
   "metadata": {},
   "source": [
    "# Data Science Tools and Ecosystem #"
   ]
  },
  {
   "cell_type": "markdown",
   "id": "222bf0a5-e3e5-4487-9250-df278df61b82",
   "metadata": {},
   "source": [
    "**Objectives:**\n",
    "- List popular languages for Data Science\n",
    "- List data science libraries\n",
    "- List Data Science tools \n",
    "- Evaluating arithmetic expressions in Python\n",
    "- Practice Markdown"
   ]
  },
  {
   "cell_type": "markdown",
   "id": "97baad8d-20f4-4ac7-ab41-a75780bb7286",
   "metadata": {},
   "source": [
    "In this notebook, Data Science Tools and Ecosystem are summarized."
   ]
  },
  {
   "cell_type": "markdown",
   "id": "bb3480ad-d39c-4bd4-8d5f-db9d0f8a5a3e",
   "metadata": {},
   "source": [
    "Some of the popular languages that Data Scientists use are:\n",
    "1. Python\n",
    "2. R \n",
    "3. SQL "
   ]
  },
  {
   "cell_type": "markdown",
   "id": "36fd30be-99c0-4728-80c7-e24c0a688f8f",
   "metadata": {},
   "source": [
    "Some of the commonly used libraries used by Data Scientists include:\n",
    "1. Pandas\n",
    "2. Tensorflow \n",
    "3. Numpy "
   ]
  },
  {
   "cell_type": "markdown",
   "id": "68408962-1854-4359-84ae-3aba379dd7e5",
   "metadata": {},
   "source": [
    "|Data Science Tools |\n",
    "|---|\n",
    "|JupyterLab|\n",
    "|RStudio IDE|\n",
    "|Jupyter Notebook|\n",
    "|GitHub|\n",
    "|IBM Watson|\n",
    "|IBM SPSS Modeler|"
   ]
  },
  {
   "cell_type": "markdown",
   "id": "e26ea794-e583-495a-a2d0-562be6f047a9",
   "metadata": {},
   "source": [
    "### Below are a few examples of evaluating arithmetic expressions in Python"
   ]
  },
  {
   "cell_type": "code",
   "execution_count": 6,
   "id": "8ad6825f-3b3f-43b4-b303-5f3352fdc003",
   "metadata": {},
   "outputs": [
    {
     "data": {
      "text/plain": [
       "17"
      ]
     },
     "execution_count": 6,
     "metadata": {},
     "output_type": "execute_result"
    }
   ],
   "source": [
    "#  This a simple arithmetic expression to mutiply then add integers\n",
    "(3*4)+5"
   ]
  },
  {
   "cell_type": "code",
   "execution_count": 7,
   "id": "e1ee50e6-c020-4899-b617-95e9a9f2185c",
   "metadata": {},
   "outputs": [
    {
     "data": {
      "text/plain": [
       "3"
      ]
     },
     "execution_count": 7,
     "metadata": {},
     "output_type": "execute_result"
    }
   ],
   "source": [
    "#  This will convert 200 minutes to hours by diving by 60\n",
    "minutes = 200 \n",
    "hours = minutes//60\n",
    "hours"
   ]
  },
  {
   "cell_type": "markdown",
   "id": "eb458fb8-b576-47e1-9ad7-c28994c99816",
   "metadata": {},
   "source": [
    "## Author\n",
    "Linh Hoang"
   ]
  }
 ],
 "metadata": {
  "kernelspec": {
   "display_name": "Python",
   "language": "python",
   "name": "conda-env-python-py"
  },
  "language_info": {
   "codemirror_mode": {
    "name": "ipython",
    "version": 3
   },
   "file_extension": ".py",
   "mimetype": "text/x-python",
   "name": "python",
   "nbconvert_exporter": "python",
   "pygments_lexer": "ipython3",
   "version": "3.7.12"
  }
 },
 "nbformat": 4,
 "nbformat_minor": 5
}
