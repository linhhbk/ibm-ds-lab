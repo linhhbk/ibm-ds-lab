{
 "cells": [
  {
   "attachments": {},
   "cell_type": "markdown",
   "metadata": {},
   "source": [
    "The objective of this lab is to learn **REST APIs** that allow us to access resources via the internet."
   ]
  },
  {
   "attachments": {},
   "cell_type": "markdown",
   "metadata": {},
   "source": [
    " In this lab, we will be using the [CoinGecko API][1] to create a candlestick graph for Bitcoin. We will use the API to get the price data for 30 days with 24 observation per day, 1 per hour. We will find the max, min, open, and close price per day meaning we will have 30 candlesticks and use that to generate the candlestick graph. Although we are using the CoinGecko API we will use a Python client/wrapper for the API called [PyCoinGecko][2]. PyCoinGecko will make performing the requests easy and it will deal with the enpoint targeting.\n",
    " \n",
    " [1]: https://www.coingecko.com/en/api\n",
    " [2]: https://github.com/man-c/pycoingecko"
   ]
  },
  {
   "attachments": {},
   "cell_type": "markdown",
   "metadata": {},
   "source": [
    "Recall: Rest APIs function by sending a request, the request is communicated via HTTP message. The HTTP message usually contains a JSON file. This contains instructions for what operation we would like the service or resource to perform. In a similar manner, API returns a response, via an HTTP message, this response is usually contained within a JSON."
   ]
  },
  {
   "cell_type": "code",
   "execution_count": 1,
   "metadata": {},
   "outputs": [
    {
     "name": "stdout",
     "output_type": "stream",
     "text": [
      "Requirement already satisfied: pycoingecko in c:\\users\\linhh\\anaconda3\\envs\\tf-gpu-env\\lib\\site-packages (3.1.0)\n",
      "Requirement already satisfied: requests in c:\\users\\linhh\\anaconda3\\envs\\tf-gpu-env\\lib\\site-packages (from pycoingecko) (2.27.1)\n",
      "Requirement already satisfied: idna<4,>=2.5 in c:\\users\\linhh\\anaconda3\\envs\\tf-gpu-env\\lib\\site-packages (from requests->pycoingecko) (3.3)\n",
      "Requirement already satisfied: charset-normalizer~=2.0.0 in c:\\users\\linhh\\anaconda3\\envs\\tf-gpu-env\\lib\\site-packages (from requests->pycoingecko) (2.0.4)\n",
      "Requirement already satisfied: certifi>=2017.4.17 in c:\\users\\linhh\\anaconda3\\envs\\tf-gpu-env\\lib\\site-packages (from requests->pycoingecko) (2022.12.7)\n",
      "Requirement already satisfied: urllib3<1.27,>=1.21.1 in c:\\users\\linhh\\anaconda3\\envs\\tf-gpu-env\\lib\\site-packages (from requests->pycoingecko) (1.26.8)\n",
      "Note: you may need to restart the kernel to use updated packages.\n",
      "Requirement already satisfied: plotly in c:\\users\\linhh\\anaconda3\\envs\\tf-gpu-env\\lib\\site-packages (5.13.0)\n",
      "Requirement already satisfied: tenacity>=6.2.0 in c:\\users\\linhh\\anaconda3\\envs\\tf-gpu-env\\lib\\site-packages (from plotly) (8.2.1)\n",
      "Note: you may need to restart the kernel to use updated packages.\n",
      "Requirement already satisfied: mplfinance in c:\\users\\linhh\\anaconda3\\envs\\tf-gpu-env\\lib\\site-packages (0.12.9b7)\n",
      "Requirement already satisfied: pandas in c:\\users\\linhh\\anaconda3\\envs\\tf-gpu-env\\lib\\site-packages (from mplfinance) (1.4.2)\n",
      "Requirement already satisfied: matplotlib in c:\\users\\linhh\\anaconda3\\envs\\tf-gpu-env\\lib\\site-packages (from mplfinance) (3.5.1)\n",
      "Requirement already satisfied: packaging>=20.0 in c:\\users\\linhh\\anaconda3\\envs\\tf-gpu-env\\lib\\site-packages (from matplotlib->mplfinance) (21.3)\n",
      "Requirement already satisfied: numpy>=1.17 in c:\\users\\linhh\\anaconda3\\envs\\tf-gpu-env\\lib\\site-packages (from matplotlib->mplfinance) (1.21.5)\n",
      "Requirement already satisfied: fonttools>=4.22.0 in c:\\users\\linhh\\anaconda3\\envs\\tf-gpu-env\\lib\\site-packages (from matplotlib->mplfinance) (4.32.0)\n",
      "Requirement already satisfied: cycler>=0.10 in c:\\users\\linhh\\anaconda3\\envs\\tf-gpu-env\\lib\\site-packages (from matplotlib->mplfinance) (0.11.0)\n",
      "Requirement already satisfied: pillow>=6.2.0 in c:\\users\\linhh\\anaconda3\\envs\\tf-gpu-env\\lib\\site-packages (from matplotlib->mplfinance) (9.1.0)\n",
      "Requirement already satisfied: python-dateutil>=2.7 in c:\\users\\linhh\\anaconda3\\envs\\tf-gpu-env\\lib\\site-packages (from matplotlib->mplfinance) (2.8.2)\n",
      "Requirement already satisfied: pyparsing>=2.2.1 in c:\\users\\linhh\\anaconda3\\envs\\tf-gpu-env\\lib\\site-packages (from matplotlib->mplfinance) (3.0.8)\n",
      "Requirement already satisfied: kiwisolver>=1.0.1 in c:\\users\\linhh\\anaconda3\\envs\\tf-gpu-env\\lib\\site-packages (from matplotlib->mplfinance) (1.4.2)\n",
      "Requirement already satisfied: six>=1.5 in c:\\users\\linhh\\anaconda3\\envs\\tf-gpu-env\\lib\\site-packages (from python-dateutil>=2.7->matplotlib->mplfinance) (1.16.0)\n",
      "Requirement already satisfied: pytz>=2020.1 in c:\\users\\linhh\\anaconda3\\envs\\tf-gpu-env\\lib\\site-packages (from pandas->mplfinance) (2022.7)\n",
      "Note: you may need to restart the kernel to use updated packages.\n",
      "Requirement already satisfied: kaleido in c:\\users\\linhh\\anaconda3\\envs\\tf-gpu-env\\lib\\site-packages (0.2.1)\n",
      "Note: you may need to restart the kernel to use updated packages.\n",
      "Requirement already satisfied: nbformat in c:\\users\\linhh\\anaconda3\\envs\\tf-gpu-env\\lib\\site-packages (5.7.3)\n",
      "Requirement already satisfied: jsonschema>=2.6 in c:\\users\\linhh\\anaconda3\\envs\\tf-gpu-env\\lib\\site-packages (from nbformat) (4.16.0)\n",
      "Requirement already satisfied: traitlets>=5.1 in c:\\users\\linhh\\anaconda3\\envs\\tf-gpu-env\\lib\\site-packages (from nbformat) (5.1.1)\n",
      "Requirement already satisfied: fastjsonschema in c:\\users\\linhh\\anaconda3\\envs\\tf-gpu-env\\lib\\site-packages (from nbformat) (2.16.2)\n",
      "Requirement already satisfied: jupyter-core in c:\\users\\linhh\\anaconda3\\envs\\tf-gpu-env\\lib\\site-packages (from nbformat) (4.9.2)\n",
      "Requirement already satisfied: attrs>=17.4.0 in c:\\users\\linhh\\anaconda3\\envs\\tf-gpu-env\\lib\\site-packages (from jsonschema>=2.6->nbformat) (21.4.0)\n",
      "Requirement already satisfied: pyrsistent!=0.17.0,!=0.17.1,!=0.17.2,>=0.14.0 in c:\\users\\linhh\\anaconda3\\envs\\tf-gpu-env\\lib\\site-packages (from jsonschema>=2.6->nbformat) (0.18.0)\n",
      "Requirement already satisfied: pywin32>=1.0 in c:\\users\\linhh\\anaconda3\\envs\\tf-gpu-env\\lib\\site-packages (from jupyter-core->nbformat) (303)\n",
      "Note: you may need to restart the kernel to use updated packages.\n"
     ]
    }
   ],
   "source": [
    "%pip install pycoingecko\n",
    "%pip install plotly\n",
    "%pip install mplfinance\n",
    "%pip install -U kaleido\n",
    "%pip install --upgrade nbformat"
   ]
  },
  {
   "cell_type": "code",
   "execution_count": 2,
   "metadata": {},
   "outputs": [],
   "source": [
    "import pandas as pd\n",
    "import numpy as np\n",
    "import plotly.graph_objects as go\n",
    "from plotly.offline import plot\n",
    "import matplotlib.pyplot as plt\n",
    "import datetime\n",
    "from pycoingecko import CoinGeckoAPI\n",
    "from mplfinance.original_flavor import candlestick2_ohlc\n",
    "\n",
    "# %matplotlib nbagg\n",
    "# %matplotlib inline "
   ]
  },
  {
   "attachments": {},
   "cell_type": "markdown",
   "metadata": {},
   "source": [
    "Lets start off by getting the data we need. Using the `get_coin_market_chart_by_id(id, vs_currency, days)`:\n",
    "- `id` is the name of the coin you want,\n",
    "- `vs_currency` is the currency you want the price in, and \n",
    "- `days` is how many days back from today you want."
   ]
  },
  {
   "cell_type": "code",
   "execution_count": 3,
   "metadata": {},
   "outputs": [],
   "source": [
    "cg = CoinGeckoAPI()\n",
    "\n",
    "bitcoin_data = cg.get_coin_market_chart_by_id(id='bitcoin', vs_currency='usd', days=30)"
   ]
  },
  {
   "cell_type": "code",
   "execution_count": 4,
   "metadata": {},
   "outputs": [
    {
     "data": {
      "text/plain": [
       "dict"
      ]
     },
     "execution_count": 4,
     "metadata": {},
     "output_type": "execute_result"
    }
   ],
   "source": [
    "type(bitcoin_data)"
   ]
  },
  {
   "attachments": {},
   "cell_type": "markdown",
   "metadata": {},
   "source": [
    "The response we get is in the form of a JSON which includes the price, market caps, and total volumes along with timestamps for each observation. We are focused on the prices so we will select that data."
   ]
  },
  {
   "cell_type": "code",
   "execution_count": 5,
   "metadata": {},
   "outputs": [
    {
     "data": {
      "text/plain": [
       "[[1674360172041, 22763.67074773826],\n",
       " [1674363786218, 22859.592833598555],\n",
       " [1674367318591, 22877.25614502751],\n",
       " [1674370972020, 22939.06268266951],\n",
       " [1674374518654, 22905.933838447523]]"
      ]
     },
     "execution_count": 5,
     "metadata": {},
     "output_type": "execute_result"
    }
   ],
   "source": [
    "bitcoin_price_data = bitcoin_data['prices']\n",
    "\n",
    "bitcoin_price_data[0:5]"
   ]
  },
  {
   "attachments": {},
   "cell_type": "markdown",
   "metadata": {},
   "source": [
    "Finally lets turn this data into a Pandas DataFrame."
   ]
  },
  {
   "cell_type": "code",
   "execution_count": 6,
   "metadata": {},
   "outputs": [],
   "source": [
    "data = pd.DataFrame(bitcoin_price_data, columns=['TimeStamp', 'Price'])"
   ]
  },
  {
   "attachments": {},
   "cell_type": "markdown",
   "metadata": {},
   "source": [
    "Now that we have the DataFrame we will convert the timestamp to datetime and save it as a column called <code>Date</code>. We will map our <code>unix_to_datetime</code> to each timestamp and convert it to a readable datetime."
   ]
  },
  {
   "cell_type": "code",
   "execution_count": 7,
   "metadata": {},
   "outputs": [],
   "source": [
    "data['date'] = data['TimeStamp'].apply(lambda d: datetime.date.fromtimestamp(d/1000.0))"
   ]
  },
  {
   "attachments": {},
   "cell_type": "markdown",
   "metadata": {},
   "source": [
    "Using this modified dataset we can now group by the <code>Date</code> and find the min, max, open, and close for the candlesticks."
   ]
  },
  {
   "cell_type": "code",
   "execution_count": 8,
   "metadata": {},
   "outputs": [],
   "source": [
    "candlestick_data = data.groupby(data.date, as_index=False).agg({\"Price\": ['min', 'max', 'first', 'last']})"
   ]
  },
  {
   "attachments": {},
   "cell_type": "markdown",
   "metadata": {},
   "source": [
    "Finally we are now ready to use plotly to create our Candlestick Chart."
   ]
  },
  {
   "cell_type": "code",
   "execution_count": 9,
   "metadata": {},
   "outputs": [
    {
     "data": {
      "image/svg+xml": "<svg class=\"main-svg\" xmlns=\"http://www.w3.org/2000/svg\" xmlns:xlink=\"http://www.w3.org/1999/xlink\" width=\"700\" height=\"500\" style=\"\" viewBox=\"0 0 700 500\"><rect x=\"0\" y=\"0\" width=\"700\" height=\"500\" style=\"fill: rgb(255, 255, 255); fill-opacity: 1;\"/><defs id=\"defs-5350fe\"><g class=\"clips\"><clipPath id=\"clip5350fexyplot\" class=\"plotclip\"><rect width=\"540\" height=\"320\"/></clipPath><clipPath class=\"axesclip\" id=\"clip5350fex\"><rect x=\"80\" y=\"0\" width=\"540\" height=\"500\"/></clipPath><clipPath class=\"axesclip\" id=\"clip5350fey\"><rect x=\"0\" y=\"100\" width=\"700\" height=\"320\"/></clipPath><clipPath class=\"axesclip\" id=\"clip5350fexy\"><rect x=\"80\" y=\"100\" width=\"540\" height=\"320\"/></clipPath></g><g class=\"gradients\"/><g class=\"patterns\"/></defs><g class=\"bglayer\"><rect class=\"bg\" x=\"80\" y=\"100\" width=\"540\" height=\"320\" style=\"fill: rgb(229, 236, 246); fill-opacity: 1; stroke-width: 0;\"/></g><g class=\"layer-below\"><g class=\"imagelayer\"/><g class=\"shapelayer\"/></g><g class=\"cartesianlayer\"><g class=\"subplot xy\"><g class=\"layer-subplot\"><g class=\"shapelayer\"/><g class=\"imagelayer\"/></g><g class=\"minor-gridlayer\"><g class=\"x\"/><g class=\"y\"/></g><g class=\"gridlayer\"><g class=\"x\"><path class=\"xgrid crisp\" transform=\"translate(88.71000000000001,0)\" d=\"M0,100v320\" style=\"stroke: rgb(255, 255, 255); stroke-opacity: 1; stroke-width: 1px;\"/><path class=\"xgrid crisp\" transform=\"translate(210.65,0)\" d=\"M0,100v320\" style=\"stroke: rgb(255, 255, 255); stroke-opacity: 1; stroke-width: 1px;\"/><path class=\"xgrid crisp\" transform=\"translate(332.58000000000004,0)\" d=\"M0,100v320\" style=\"stroke: rgb(255, 255, 255); stroke-opacity: 1; stroke-width: 1px;\"/><path class=\"xgrid crisp\" transform=\"translate(454.52,0)\" d=\"M0,100v320\" style=\"stroke: rgb(255, 255, 255); stroke-opacity: 1; stroke-width: 1px;\"/><path class=\"xgrid crisp\" transform=\"translate(576.45,0)\" d=\"M0,100v320\" style=\"stroke: rgb(255, 255, 255); stroke-opacity: 1; stroke-width: 1px;\"/></g><g class=\"y\"><path class=\"ygrid crisp\" transform=\"translate(0,401.6)\" d=\"M80,0h540\" style=\"stroke: rgb(255, 255, 255); stroke-opacity: 1; stroke-width: 1px;\"/><path class=\"ygrid crisp\" transform=\"translate(0,360.51)\" d=\"M80,0h540\" style=\"stroke: rgb(255, 255, 255); stroke-opacity: 1; stroke-width: 1px;\"/><path class=\"ygrid crisp\" transform=\"translate(0,319.41999999999996)\" d=\"M80,0h540\" style=\"stroke: rgb(255, 255, 255); stroke-opacity: 1; stroke-width: 1px;\"/><path class=\"ygrid crisp\" transform=\"translate(0,278.33000000000004)\" d=\"M80,0h540\" style=\"stroke: rgb(255, 255, 255); stroke-opacity: 1; stroke-width: 1px;\"/><path class=\"ygrid crisp\" transform=\"translate(0,237.25)\" d=\"M80,0h540\" style=\"stroke: rgb(255, 255, 255); stroke-opacity: 1; stroke-width: 1px;\"/><path class=\"ygrid crisp\" transform=\"translate(0,196.16)\" d=\"M80,0h540\" style=\"stroke: rgb(255, 255, 255); stroke-opacity: 1; stroke-width: 1px;\"/><path class=\"ygrid crisp\" transform=\"translate(0,155.07)\" d=\"M80,0h540\" style=\"stroke: rgb(255, 255, 255); stroke-opacity: 1; stroke-width: 1px;\"/><path class=\"ygrid crisp\" transform=\"translate(0,113.99)\" d=\"M80,0h540\" style=\"stroke: rgb(255, 255, 255); stroke-opacity: 1; stroke-width: 1px;\"/></g></g><g class=\"zerolinelayer\"/><path class=\"xlines-below\"/><path class=\"ylines-below\"/><g class=\"overlines-below\"/><g class=\"xaxislayer-below\"/><g class=\"yaxislayer-below\"/><g class=\"overaxes-below\"/><g class=\"plot\" transform=\"translate(80,100)\" clip-path=\"url(#clip5350fexyplot)\"><g class=\"boxlayer mlayer\"><g class=\"trace boxes\" style=\"opacity: 1;\"><path class=\"box\" d=\"M4.44,185.19H12.98M4.44,197.75H12.98V184.19H4.44ZM8.71,197.75V197.75M8.71,184.19V183.34\" style=\"vector-effect: non-scaling-stroke; stroke-width: 2px; stroke: rgb(61, 153, 112); stroke-opacity: 1; fill: rgb(61, 153, 112); fill-opacity: 0.5; opacity: 1;\"/><path class=\"box\" d=\"M21.86,192.21H30.4M21.86,193.21H30.4V175.82H21.86ZM26.13,193.21V216.2M26.13,175.82V175.82\" style=\"vector-effect: non-scaling-stroke; stroke-width: 2px; stroke: rgb(255, 65, 54); stroke-opacity: 1; fill: rgb(255, 65, 54); fill-opacity: 0.5; opacity: 1;\"/><path class=\"box\" d=\"M39.28,189.9H47.82M39.28,190.9H47.82V188.03H39.28ZM43.55,190.9V200.86M43.55,188.03V167.02\" style=\"vector-effect: non-scaling-stroke; stroke-width: 2px; stroke: rgb(255, 65, 54); stroke-opacity: 1; fill: rgb(255, 65, 54); fill-opacity: 0.5; opacity: 1;\"/><path class=\"box\" d=\"M56.7,209.83H65.24M56.7,210.83H65.24V190.36H56.7ZM60.97,210.83V219.13M60.97,190.36V176.54\" style=\"vector-effect: non-scaling-stroke; stroke-width: 2px; stroke: rgb(255, 65, 54); stroke-opacity: 1; fill: rgb(255, 65, 54); fill-opacity: 0.5; opacity: 1;\"/><path class=\"box\" d=\"M74.12,172.32H82.65M74.12,224.54H82.65V171.32H74.12ZM78.39,224.54V224.54M78.39,171.32V145.55\" style=\"vector-effect: non-scaling-stroke; stroke-width: 2px; stroke: rgb(61, 153, 112); stroke-opacity: 1; fill: rgb(61, 153, 112); fill-opacity: 0.5; opacity: 1;\"/><path class=\"box\" d=\"M91.54,188.98H100.07M91.54,189.98H100.07V171.5H91.54ZM95.81,189.98V206.94M95.81,171.5V166.95\" style=\"vector-effect: non-scaling-stroke; stroke-width: 2px; stroke: rgb(255, 65, 54); stroke-opacity: 1; fill: rgb(255, 65, 54); fill-opacity: 0.5; opacity: 1;\"/><path class=\"box\" d=\"M108.96,178.44H117.49M108.96,179.44H117.49V172.93H108.96ZM113.23,179.44V179.83M113.23,172.93V154.97\" style=\"vector-effect: non-scaling-stroke; stroke-width: 2px; stroke: rgb(255, 65, 54); stroke-opacity: 1; fill: rgb(255, 65, 54); fill-opacity: 0.5; opacity: 1;\"/><path class=\"box\" d=\"M126.38,133.68H134.91M126.38,182.08H134.91V132.68H126.38ZM130.65,182.08V182.08M130.65,132.68V132.68\" style=\"vector-effect: non-scaling-stroke; stroke-width: 2px; stroke: rgb(61, 153, 112); stroke-opacity: 1; fill: rgb(61, 153, 112); fill-opacity: 0.5; opacity: 1;\"/><path class=\"box\" d=\"M143.8,169.77H152.33M143.8,170.77H152.33V136.75H143.8ZM148.06,170.77V174.08M148.06,136.75V103.76\" style=\"vector-effect: non-scaling-stroke; stroke-width: 2px; stroke: rgb(255, 65, 54); stroke-opacity: 1; fill: rgb(255, 65, 54); fill-opacity: 0.5; opacity: 1;\"/><path class=\"box\" d=\"M161.22,171.05H169.75M161.22,172.05H169.75V162.02H161.22ZM165.48,172.05V202.6M165.48,162.02V162.02\" style=\"vector-effect: non-scaling-stroke; stroke-width: 2px; stroke: rgb(255, 65, 54); stroke-opacity: 1; fill: rgb(255, 65, 54); fill-opacity: 0.5; opacity: 1;\"/><path class=\"box\" d=\"M178.64,169.97H187.17M178.64,170.97H187.17V165.77H178.64ZM182.9,170.97V187.9M182.9,165.77V162.75\" style=\"vector-effect: non-scaling-stroke; stroke-width: 2px; stroke: rgb(255, 65, 54); stroke-opacity: 1; fill: rgb(255, 65, 54); fill-opacity: 0.5; opacity: 1;\"/><path class=\"box\" d=\"M196.05,117.22H204.59M196.05,167.43H204.59V116.22H196.05ZM200.32,167.43V179.25M200.32,116.22V81.13\" style=\"vector-effect: non-scaling-stroke; stroke-width: 2px; stroke: rgb(61, 153, 112); stroke-opacity: 1; fill: rgb(61, 153, 112); fill-opacity: 0.5; opacity: 1;\"/><path class=\"box\" d=\"M213.47,146.19H222.01M213.47,147.19H222.01V113.25H213.47ZM217.74,147.19V147.19M217.74,113.25V92.28\" style=\"vector-effect: non-scaling-stroke; stroke-width: 2px; stroke: rgb(255, 65, 54); stroke-opacity: 1; fill: rgb(255, 65, 54); fill-opacity: 0.5; opacity: 1;\"/><path class=\"box\" d=\"M230.89,138.33H239.43M230.89,145.25H239.43V137.33H230.89ZM235.16,145.25V153.28M235.16,137.33V124.72\" style=\"vector-effect: non-scaling-stroke; stroke-width: 2px; stroke: rgb(61, 153, 112); stroke-opacity: 1; fill: rgb(61, 153, 112); fill-opacity: 0.5; opacity: 1;\"/><path class=\"box\" d=\"M248.31,162.72H256.85M248.31,163.72H256.85V139.71H248.31ZM252.58,163.72V163.72M252.58,139.71V139.71\" style=\"vector-effect: non-scaling-stroke; stroke-width: 2px; stroke: rgb(255, 65, 54); stroke-opacity: 1; fill: rgb(255, 65, 54); fill-opacity: 0.5; opacity: 1;\"/><path class=\"box\" d=\"M265.73,191.68H274.27M265.73,192.68H274.27V162.71H265.73ZM270,192.68V199.48M270,162.71V162.71\" style=\"vector-effect: non-scaling-stroke; stroke-width: 2px; stroke: rgb(255, 65, 54); stroke-opacity: 1; fill: rgb(255, 65, 54); fill-opacity: 0.5; opacity: 1;\"/><path class=\"box\" d=\"M283.15,177.94H291.69M283.15,193.44H291.69V176.94H283.15ZM287.42,193.44V195.88M287.42,176.94V169.9\" style=\"vector-effect: non-scaling-stroke; stroke-width: 2px; stroke: rgb(61, 153, 112); stroke-opacity: 1; fill: rgb(61, 153, 112); fill-opacity: 0.5; opacity: 1;\"/><path class=\"box\" d=\"M300.57,169.59H309.11M300.57,176.22H309.11V168.59H300.57ZM304.84,176.22V183.96M304.84,168.59V128.19\" style=\"vector-effect: non-scaling-stroke; stroke-width: 2px; stroke: rgb(61, 153, 112); stroke-opacity: 1; fill: rgb(61, 153, 112); fill-opacity: 0.5; opacity: 1;\"/><path class=\"box\" d=\"M317.99,195.54H326.53M317.99,196.54H326.53V176.06H317.99ZM322.26,196.54V217.23M322.26,176.06V176.06\" style=\"vector-effect: non-scaling-stroke; stroke-width: 2px; stroke: rgb(255, 65, 54); stroke-opacity: 1; fill: rgb(255, 65, 54); fill-opacity: 0.5; opacity: 1;\"/><path class=\"box\" d=\"M335.41,276.36H343.95M335.41,277.36H343.95V199.38H335.41ZM339.68,277.36V280.32M339.68,199.38V199.38\" style=\"vector-effect: non-scaling-stroke; stroke-width: 2px; stroke: rgb(255, 65, 54); stroke-opacity: 1; fill: rgb(255, 65, 54); fill-opacity: 0.5; opacity: 1;\"/><path class=\"box\" d=\"M352.83,278.81H361.36M352.83,279.81H361.36V274.61H352.83ZM357.1,279.81V301.62M357.1,274.61V274.61\" style=\"vector-effect: non-scaling-stroke; stroke-width: 2px; stroke: rgb(255, 65, 54); stroke-opacity: 1; fill: rgb(255, 65, 54); fill-opacity: 0.5; opacity: 1;\"/><path class=\"box\" d=\"M370.25,276.36H378.78M370.25,280.07H378.78V275.36H370.25ZM374.52,280.07V286.7M374.52,275.36V261.37\" style=\"vector-effect: non-scaling-stroke; stroke-width: 2px; stroke: rgb(61, 153, 112); stroke-opacity: 1; fill: rgb(61, 153, 112); fill-opacity: 0.5; opacity: 1;\"/><path class=\"box\" d=\"M387.67,292.54H396.2M387.67,293.54H396.2V265.46H387.67ZM391.94,293.54V293.54M391.94,265.46V254.17\" style=\"vector-effect: non-scaling-stroke; stroke-width: 2px; stroke: rgb(255, 65, 54); stroke-opacity: 1; fill: rgb(255, 65, 54); fill-opacity: 0.5; opacity: 1;\"/><path class=\"box\" d=\"M405.09,282.52H413.62M405.09,284.73H413.62V281.52H405.09ZM409.35,284.73V304M409.35,281.52V266.37\" style=\"vector-effect: non-scaling-stroke; stroke-width: 2px; stroke: rgb(61, 153, 112); stroke-opacity: 1; fill: rgb(61, 153, 112); fill-opacity: 0.5; opacity: 1;\"/><path class=\"box\" d=\"M422.51,200.26H431.04M422.51,237.84H431.04V199.26H422.51ZM426.77,237.84V260.28M426.77,199.26V197.86\" style=\"vector-effect: non-scaling-stroke; stroke-width: 2px; stroke: rgb(61, 153, 112); stroke-opacity: 1; fill: rgb(61, 153, 112); fill-opacity: 0.5; opacity: 1;\"/><path class=\"box\" d=\"M439.93,63.11H448.46M439.93,200.67H448.46V62.11H439.93ZM444.19,200.67V200.67M444.19,62.11V36.81\" style=\"vector-effect: non-scaling-stroke; stroke-width: 2px; stroke: rgb(61, 153, 112); stroke-opacity: 1; fill: rgb(61, 153, 112); fill-opacity: 0.5; opacity: 1;\"/><path class=\"box\" d=\"M457.35,110.41H465.88M457.35,111.41H465.88V61.88H457.35ZM461.61,111.41V123.57M461.61,61.88V17.22\" style=\"vector-effect: non-scaling-stroke; stroke-width: 2px; stroke: rgb(255, 65, 54); stroke-opacity: 1; fill: rgb(255, 65, 54); fill-opacity: 0.5; opacity: 1;\"/><path class=\"box\" d=\"M474.76,49.29H483.3M474.76,88.3H483.3V48.29H474.76ZM479.03,88.3V90.62M479.03,48.29V31.76\" style=\"vector-effect: non-scaling-stroke; stroke-width: 2px; stroke: rgb(61, 153, 112); stroke-opacity: 1; fill: rgb(61, 153, 112); fill-opacity: 0.5; opacity: 1;\"/><path class=\"box\" d=\"M492.18,40.05H500.72M492.18,40.25H500.72V39.05H492.18ZM496.45,40.25V48.15M496.45,39.05V37.11\" style=\"vector-effect: non-scaling-stroke; stroke-width: 2px; stroke: rgb(255, 65, 54); stroke-opacity: 1; fill: rgb(255, 65, 54); fill-opacity: 0.5; opacity: 1;\"/><path class=\"box\" d=\"M509.6,26.15H518.14M509.6,36.78H518.14V25.15H509.6ZM513.87,36.78V77.36M513.87,25.15V18.8\" style=\"vector-effect: non-scaling-stroke; stroke-width: 2px; stroke: rgb(61, 153, 112); stroke-opacity: 1; fill: rgb(61, 153, 112); fill-opacity: 0.5; opacity: 1;\"/><path class=\"box\" d=\"M527.02,16H535.56M527.02,16.28H535.56V16H527.02ZM531.29,16.28V39.05M531.29,16V16\" style=\"vector-effect: non-scaling-stroke; stroke-width: 2px; stroke: rgb(61, 153, 112); stroke-opacity: 1; fill: rgb(61, 153, 112); fill-opacity: 0.5; opacity: 1;\"/></g></g></g><g class=\"overplot\"/><path class=\"xlines-above crisp\" d=\"M0,0\" style=\"fill: none;\"/><path class=\"ylines-above crisp\" d=\"M0,0\" style=\"fill: none;\"/><g class=\"overlines-above\"/><g class=\"xaxislayer-above\"><g class=\"xtick\"><text text-anchor=\"middle\" x=\"0\" y=\"433\" transform=\"translate(88.71000000000001,0)\" style=\"font-family: 'Open Sans', verdana, arial, sans-serif; font-size: 12px; fill: rgb(42, 63, 95); fill-opacity: 1; white-space: pre; opacity: 1;\"><tspan class=\"line\" dy=\"0em\" x=\"0\" y=\"433\">Jan 22</tspan><tspan class=\"line\" dy=\"1.3em\" x=\"0\" y=\"433\">2023</tspan></text></g><g class=\"xtick\"><text text-anchor=\"middle\" x=\"0\" y=\"433\" style=\"font-family: 'Open Sans', verdana, arial, sans-serif; font-size: 12px; fill: rgb(42, 63, 95); fill-opacity: 1; white-space: pre; opacity: 1;\" transform=\"translate(210.65,0)\">Jan 29</text></g><g class=\"xtick\"><text text-anchor=\"middle\" x=\"0\" y=\"433\" style=\"font-family: 'Open Sans', verdana, arial, sans-serif; font-size: 12px; fill: rgb(42, 63, 95); fill-opacity: 1; white-space: pre; opacity: 1;\" transform=\"translate(332.58000000000004,0)\">Feb 5</text></g><g class=\"xtick\"><text text-anchor=\"middle\" x=\"0\" y=\"433\" style=\"font-family: 'Open Sans', verdana, arial, sans-serif; font-size: 12px; fill: rgb(42, 63, 95); fill-opacity: 1; white-space: pre; opacity: 1;\" transform=\"translate(454.52,0)\">Feb 12</text></g><g class=\"xtick\"><text text-anchor=\"middle\" x=\"0\" y=\"433\" style=\"font-family: 'Open Sans', verdana, arial, sans-serif; font-size: 12px; fill: rgb(42, 63, 95); fill-opacity: 1; white-space: pre; opacity: 1;\" transform=\"translate(576.45,0)\">Feb 19</text></g></g><g class=\"yaxislayer-above\"><g class=\"ytick\"><text text-anchor=\"end\" x=\"79\" y=\"4.199999999999999\" transform=\"translate(0,401.6)\" style=\"font-family: 'Open Sans', verdana, arial, sans-serif; font-size: 12px; fill: rgb(42, 63, 95); fill-opacity: 1; white-space: pre; opacity: 1;\">21.5k</text></g><g class=\"ytick\"><text text-anchor=\"end\" x=\"79\" y=\"4.199999999999999\" style=\"font-family: 'Open Sans', verdana, arial, sans-serif; font-size: 12px; fill: rgb(42, 63, 95); fill-opacity: 1; white-space: pre; opacity: 1;\" transform=\"translate(0,360.51)\">22k</text></g><g class=\"ytick\"><text text-anchor=\"end\" x=\"79\" y=\"4.199999999999999\" style=\"font-family: 'Open Sans', verdana, arial, sans-serif; font-size: 12px; fill: rgb(42, 63, 95); fill-opacity: 1; white-space: pre; opacity: 1;\" transform=\"translate(0,319.41999999999996)\">22.5k</text></g><g class=\"ytick\"><text text-anchor=\"end\" x=\"79\" y=\"4.199999999999999\" style=\"font-family: 'Open Sans', verdana, arial, sans-serif; font-size: 12px; fill: rgb(42, 63, 95); fill-opacity: 1; white-space: pre; opacity: 1;\" transform=\"translate(0,278.33000000000004)\">23k</text></g><g class=\"ytick\"><text text-anchor=\"end\" x=\"79\" y=\"4.199999999999999\" style=\"font-family: 'Open Sans', verdana, arial, sans-serif; font-size: 12px; fill: rgb(42, 63, 95); fill-opacity: 1; white-space: pre; opacity: 1;\" transform=\"translate(0,237.25)\">23.5k</text></g><g class=\"ytick\"><text text-anchor=\"end\" x=\"79\" y=\"4.199999999999999\" style=\"font-family: 'Open Sans', verdana, arial, sans-serif; font-size: 12px; fill: rgb(42, 63, 95); fill-opacity: 1; white-space: pre; opacity: 1;\" transform=\"translate(0,196.16)\">24k</text></g><g class=\"ytick\"><text text-anchor=\"end\" x=\"79\" y=\"4.199999999999999\" style=\"font-family: 'Open Sans', verdana, arial, sans-serif; font-size: 12px; fill: rgb(42, 63, 95); fill-opacity: 1; white-space: pre; opacity: 1;\" transform=\"translate(0,155.07)\">24.5k</text></g><g class=\"ytick\"><text text-anchor=\"end\" x=\"79\" y=\"4.199999999999999\" style=\"font-family: 'Open Sans', verdana, arial, sans-serif; font-size: 12px; fill: rgb(42, 63, 95); fill-opacity: 1; white-space: pre; opacity: 1;\" transform=\"translate(0,113.99)\">25k</text></g></g><g class=\"overaxes-above\"/></g></g><g class=\"polarlayer\"/><g class=\"smithlayer\"/><g class=\"ternarylayer\"/><g class=\"geolayer\"/><g class=\"funnelarealayer\"/><g class=\"pielayer\"/><g class=\"iciclelayer\"/><g class=\"treemaplayer\"/><g class=\"sunburstlayer\"/><g class=\"glimages\"/><defs id=\"topdefs-5350fe\"><g class=\"clips\"/></defs><g class=\"layer-above\"><g class=\"imagelayer\"/><g class=\"shapelayer\"/></g><g class=\"infolayer\"><g class=\"g-gtitle\"/><g class=\"g-xtitle\"/><g class=\"g-ytitle\"/></g></svg>"
     },
     "metadata": {},
     "output_type": "display_data"
    }
   ],
   "source": [
    "fig = go.Figure(data=[go.Candlestick(x=candlestick_data['date'],\n",
    "                open=candlestick_data['Price']['first'], \n",
    "                high=candlestick_data['Price']['max'],\n",
    "                low=candlestick_data['Price']['min'], \n",
    "                close=candlestick_data['Price']['last'])\n",
    "                ])\n",
    "\n",
    "fig.update_layout(xaxis_rangeslider_visible=False)\n",
    "\n",
    "fig.show(renderer=\"svg\")"
   ]
  }
 ],
 "metadata": {
  "kernelspec": {
   "display_name": "tf-gpu-env",
   "language": "python",
   "name": "python3"
  },
  "language_info": {
   "codemirror_mode": {
    "name": "ipython",
    "version": 3
   },
   "file_extension": ".py",
   "mimetype": "text/x-python",
   "name": "python",
   "nbconvert_exporter": "python",
   "pygments_lexer": "ipython3",
   "version": "3.9.12"
  },
  "orig_nbformat": 4,
  "vscode": {
   "interpreter": {
    "hash": "1114fc5fc72f7bc7830670eb43262804825d41a81a02f9a76439a78a64f861cc"
   }
  }
 },
 "nbformat": 4,
 "nbformat_minor": 2
}
